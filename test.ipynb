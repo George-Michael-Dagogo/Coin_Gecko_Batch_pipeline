{
 "cells": [
  {
   "cell_type": "markdown",
   "metadata": {},
   "source": [
    "## Extraction from Coin Gecko's API \n",
    "## Now lets turn it all into functions and adjust it to work with prefect workflow "
   ]
  },
  {
   "cell_type": "code",
   "execution_count": 19,
   "metadata": {},
   "outputs": [],
   "source": [
    "import requests\n",
    "def extract():\n",
    "    #Set the base URL for CoinGecko API\n",
    "    base_url = \"https://api.coingecko.com/api/v3\"\n",
    "\n",
    "    #Specify the endpoint for fetching trending coins\n",
    "    trennding_coins_endpoint = \"/coins/markets\"\n",
    "\n",
    "    #Paremeters for API request\n",
    "\n",
    "    params_trending_coins = {\n",
    "        'vs_currency': 'usd',\n",
    "        'order': 'volume_desc',\n",
    "        'per_page': 10,\n",
    "        'page': 1\n",
    "    }\n",
    "\n",
    "    #Send get request to api endpoint with specified parameters\n",
    "    response = requests.get(base_url + trennding_coins_endpoint, params=params_trending_coins)\n",
    "\n",
    "    #parse the json response to a python dictionary\n",
    "    data_trending_coins = response.json()\n",
    "\n",
    "    print('extraction complete')\n",
    "\n",
    "    return data_trending_coins"
   ]
  },
  {
   "cell_type": "markdown",
   "metadata": {},
   "source": [
    "## Transformation "
   ]
  },
  {
   "cell_type": "code",
   "execution_count": 20,
   "metadata": {},
   "outputs": [],
   "source": [
    "import pandas as pd\n",
    "from forex_python.converter import CurrencyRates\n",
    "\n",
    "\n",
    "def transform(data_trending_coins):\n",
    "    df = pd.DataFrame(data_trending_coins)\n",
    "\n",
    "    #select the first 9 columns (index 0 to 8)\n",
    "    df =  df.iloc[:, :9]\n",
    "    # drop image column\n",
    "    df = df.drop('image' , axis=1)\n",
    "\n",
    "    #define the function that converts prices\n",
    "    def convert_price(row, to_currency):\n",
    "        c = CurrencyRates()\n",
    "\n",
    "        #get current price from dataframe row\n",
    "        price = row['current_price']\n",
    "        #since our currency is in USD\n",
    "        from_currency = 'USD'\n",
    "\n",
    "        #FETCHING the exchange rates from CurrencyRates object\n",
    "        exchange_rate = c.get_rate(from_currency,to_currency)\n",
    "\n",
    "        #calculate the price\n",
    "        converted_price = price * exchange_rate\n",
    "\n",
    "        return converted_price\n",
    "\n",
    "    #list of target currencies for conversion\n",
    "    currencies = ['EUR', 'GBP', 'JPY']\n",
    "\n",
    "    #iterate throught each target currency\n",
    "    for currency in currencies:\n",
    "        #apply the convert_price function to each row, creating new columns in the df dataframe\n",
    "        df[f'price_in_{currency}'] = df.apply(lambda row: convert_price(row, currency),axis = 1)\n",
    "    \n",
    "    today = pd.to_datetime('today')\n",
    "    df['today'] = today\n",
    "    print('transformation complete')\n",
    "    \n",
    "    return df"
   ]
  },
  {
   "cell_type": "markdown",
   "metadata": {},
   "source": [
    "## Loading to Azure postgresql database"
   ]
  },
  {
   "cell_type": "code",
   "execution_count": 21,
   "metadata": {},
   "outputs": [],
   "source": [
    "import psycopg2\n",
    "from sqlalchemy import create_engine #pip install both packages\n",
    "def load(dataframe):\n",
    "    try:\n",
    "\n",
    "        #Create a dictionary of our credentials\n",
    "        connection_params = {\n",
    "        \"host\": \"testtech.postgres.database.azure.com\",\n",
    "        \"port\": \"5432\",\n",
    "        \"user\": \"testtech\",\n",
    "        \"password\": \"Your_password\",\n",
    "        \"database\": \"postgres\"\n",
    "    }\n",
    "\n",
    "    #Create a SQLalchemy engine for connecting to database\n",
    "        engine = create_engine(f'postgresql+psycopg2://{connection_params[\"user\"]}:{connection_params[\"password\"]}@{connection_params[\"host\"]}:{connection_params[\"port\"]}/{connection_params[\"database\"]}')\n",
    "    #Append the dataframe contents to the existing table and it'll create it if it's not there.\n",
    "        dataframe.to_sql('top_trending_coins' , engine, if_exists = 'append', index = False)\n",
    "\n",
    "        print('Database Successfully updated')\n",
    "\n",
    "    except Exception as e:\n",
    "        print('An error occurred:', e)\n",
    "\n",
    "    finally:\n",
    "        if engine:\n",
    "            engine.dispose()"
   ]
  },
  {
   "cell_type": "code",
   "execution_count": 22,
   "metadata": {},
   "outputs": [
    {
     "name": "stdout",
     "output_type": "stream",
     "text": [
      "extraction complete\n"
     ]
    },
    {
     "name": "stdout",
     "output_type": "stream",
     "text": [
      "transformation complete\n",
      "Database Successfully updated\n"
     ]
    }
   ],
   "source": [
    "data = extract()\n",
    "\n",
    "dataframe = transform(data)\n",
    "\n",
    "load(dataframe)"
   ]
  }
 ],
 "metadata": {
  "kernelspec": {
   "display_name": "Python 3",
   "language": "python",
   "name": "python3"
  },
  "language_info": {
   "codemirror_mode": {
    "name": "ipython",
    "version": 3
   },
   "file_extension": ".py",
   "mimetype": "text/x-python",
   "name": "python",
   "nbconvert_exporter": "python",
   "pygments_lexer": "ipython3",
   "version": "3.10.2"
  }
 },
 "nbformat": 4,
 "nbformat_minor": 2
}
