{
 "cells": [
  {
   "cell_type": "markdown",
   "metadata": {},
   "source": [
    "## Extraction"
   ]
  },
  {
   "cell_type": "markdown",
   "metadata": {},
   "source": [
    "i"
   ]
  },
  {
   "cell_type": "code",
   "execution_count": 2,
   "metadata": {},
   "outputs": [
    {
     "data": {
      "text/plain": [
       "'extracted successfully\\ntransformed successfully\\nAn error occurred: (psycopg2.OperationalError) could not translate host name \"testtech.postgres.database.azure.com\" to address: Name or service not known\\n\\n(Background on this error at: https://sqlalche.me/e/20/e3q8)\\n'"
      ]
     },
     "execution_count": 2,
     "metadata": {},
     "output_type": "execute_result"
    }
   ],
   "source": [
    "file1 = open(\"output.txt\",\"r\")\n",
    "body = f\"\"\"{file1.read()}\"\"\"\n",
    "body"
   ]
  },
  {
   "cell_type": "markdown",
   "metadata": {},
   "source": [
    "## Transformation"
   ]
  },
  {
   "cell_type": "code",
   "execution_count": 27,
   "metadata": {},
   "outputs": [],
   "source": [
    "import pandas as pd\n",
    "from forex_python.converter import CurrencyRates\n",
    "\n",
    "def transform(data):\n",
    "    df = pd.DataFrame(data)\n",
    "    df = df.iloc[:,list(range(9)) + [-1]]\n",
    "    df = df.drop('image',axis=1)\n",
    "\n",
    "\n",
    "    def convert_price(row, to_currency):\n",
    "        c = CurrencyRates()\n",
    "        price = row['current_price']\n",
    "        from_currency = 'USD'\n",
    "        exchange_rate = c.get_rate(from_currency,to_currency)\n",
    "        converted_price = price * exchange_rate\n",
    "\n",
    "        return converted_price\n",
    "\n",
    "    currencies = ['EUR', 'GBP', 'JPY']\n",
    "\n",
    "    for currency in currencies:\n",
    "        df[f'price_in_{currency}'] = df.apply(lambda row: convert_price(row, currency), axis = 1)\n",
    "    print('transformed successfully')\n",
    "    return df"
   ]
  },
  {
   "cell_type": "markdown",
   "metadata": {},
   "source": [
    "## Loading"
   ]
  },
  {
   "cell_type": "code",
   "execution_count": 28,
   "metadata": {},
   "outputs": [],
   "source": [
    "import psycopg2 #pip install psycopg2 sqlalchemy \n",
    "from sqlalchemy import create_engine\n",
    "def loading(dataframe):\n",
    "    try:\n",
    "        \n",
    "        # Create a dictionary of database connection parameters\n",
    "        connection_params = {\n",
    "            \"host\": \"testtech.postgres.database.azure.com\",\n",
    "            \"port\": \"5432\",\n",
    "            \"user\": \"testtech\",\n",
    "            \"password\": \"Your_password\",\n",
    "            \"database\": \"postgres\"\n",
    "        }\n",
    "\n",
    "        # Create a SQLAlchemy engine for connecting to the database\n",
    "        engine = create_engine(\n",
    "            f'postgresql+psycopg2://{connection_params[\"user\"]}:{connection_params[\"password\"]}@{connection_params[\"host\"]}:{connection_params[\"port\"]}/{connection_params[\"database\"]}'\n",
    "        )\n",
    "\n",
    "        # Append the DataFrame contents to the existing table\n",
    "        df.to_sql(\"trending_coins\", engine, if_exists='append', index=False)\n",
    "\n",
    "        print('Database successfully updated')\n",
    "\n",
    "    except Exception as e:\n",
    "        print(\"An error occurred:\", e)\n",
    "        # Optionally: Log the error for further analysis\n",
    "\n",
    "    finally:\n",
    "        # Close the database connection gracefully\n",
    "        if engine:\n",
    "            engine.dispose()"
   ]
  },
  {
   "cell_type": "code",
   "execution_count": 29,
   "metadata": {},
   "outputs": [
    {
     "name": "stdout",
     "output_type": "stream",
     "text": [
      "extracted successfully\n",
      "transformed successfully\n",
      "Database successfully updated\n"
     ]
    }
   ],
   "source": [
    "data = extract()\n",
    "dataframe = transform(data)\n",
    "loading(dataframe)"
   ]
  }
 ],
 "metadata": {
  "kernelspec": {
   "display_name": "Python 3",
   "language": "python",
   "name": "python3"
  },
  "language_info": {
   "codemirror_mode": {
    "name": "ipython",
    "version": 3
   },
   "file_extension": ".py",
   "mimetype": "text/x-python",
   "name": "python",
   "nbconvert_exporter": "python",
   "pygments_lexer": "ipython3",
   "version": "3.10.2"
  }
 },
 "nbformat": 4,
 "nbformat_minor": 2
}
